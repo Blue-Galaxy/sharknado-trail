{
  "nbformat": 4,
  "nbformat_minor": 0,
  "metadata": {
    "colab": {
      "name": "Graph_playground.ipynb",
      "provenance": []
    },
    "kernelspec": {
      "name": "python3",
      "display_name": "Python 3"
    }
  },
  "cells": [
    {
      "cell_type": "code",
      "metadata": {
        "id": "myfrBiE5rPT5",
        "colab_type": "code",
        "colab": {}
      },
      "source": [
        "class Graph:\n",
        "  \"\"\"Representation of a simple graph using an adjacency map\"\"\"\n",
        "  def __init__(self, directed = False):\n",
        "    \"\"\"Create an empty Graph\n",
        "       Undirected by default\"\"\"\n",
        "    self._outgoing = {}\n",
        "    self._incoming = {} if directed else self._outgoing\n",
        "\n",
        "\n",
        "  def is_directed(self):\n",
        "    return self._incoming is not self._outgoing\n",
        "\n",
        "\n",
        "  def vertex_count(self):\n",
        "    \"\"\"return the number of vertices int he graph\"\"\"\n",
        "    return len(self._outgoing)\n",
        "\n",
        "\n",
        "  def vertices(self):\n",
        "    \"\"\"Return an iteration of all verticies in the graph\"\"\"\n",
        "    return self._outgoing.keys()\n",
        "\n",
        "\n",
        "  def edge_count(self):\n",
        "    \"\"\"Return the number of edges in the graph\"\"\"\n",
        "    total = sum(len(self._outgoing[v]) for v in self._outgoing)\n",
        "    return total if self.is_directed() else total // 2\n",
        "\n",
        "\n",
        "  def edges(self):\n",
        "    \"\"\"Return a set of all edges of the graph\"\"\"\n",
        "    result = set()\n",
        "    for secondary_map in self._outgoing.values():\n",
        "      result.update(secondary_map.values())\n",
        "    return result\n",
        "\n",
        "\n",
        "  def get_edge(self, u, v):\n",
        "    \"\"\"return edge from u to v. None if not adjacent\"\"\"\n",
        "    return self._outgoing[u].get(v)\n",
        "    \n",
        "\n",
        "  def degree(self, v, outgoing = True):\n",
        "    \"\"\"Return number of outgoing edges incident to vertex v\"\"\"\n",
        "    adj = self._outgoing if outgoing else self._incoming\n",
        "    return len(adj[v])\n",
        "    \n",
        "\n",
        "  def incident_edges(self, v, outgoing = True):\n",
        "    \"\"\"Return all outgoing edges incident to vertex v\"\"\"\n",
        "    adj = self._outgoing if outgoing else self._incoming\n",
        "    for edge in adj[v].values():\n",
        "      yield edge\n",
        "\n",
        "\n",
        "  def insert_vertex(self, x = None):\n",
        "    \"\"\"Insert and return a new vertex with element x\"\"\"\n",
        "    v = self.Vertex(x)\n",
        "    self._outgoing[v] = {}\n",
        "    if self.is_directed():\n",
        "      self._incoming[v] = {}\n",
        "    return v\n",
        "\n",
        "\n",
        "  def insert_edge(self, u, v, x = None):\n",
        "    \"\"\"Insert and return a new edge from u to v with auxillary element x\"\"\"\n",
        "    e = self.Edge(u, v, x)\n",
        "    self._outgoing[u][v] = e\n",
        "    self._incoming[v][u] = e\n",
        "\n",
        "\n",
        "\n",
        "  class Vertex:\n",
        "    \"\"\"Lightweight vertex structure for a graph\"\"\"\n",
        "    #http://book.pythontips.com/en/latest/__slots__magic.html\n",
        "    __slots__ = '_element'\n",
        "\n",
        "\n",
        "    def __init__(self, x):\n",
        "      \"\"\"Do not call constructor directly. Use Graph's insert_vertex() method\"\"\"\n",
        "      self._element = x\n",
        "\n",
        "\n",
        "    def __repr__(self):\n",
        "      return f\"{self._element}\"\n",
        "\n",
        "\n",
        "    def element(self):\n",
        "      \"\"\"Return element asociated with this vertex\"\"\"\n",
        "      return self._element\n",
        "\n",
        "\n",
        "    def __hash__(self): #Will allow vertex to be map/set key\n",
        "      return hash(id(self))\n",
        "\n",
        "\n",
        "\n",
        "  class Edge:\n",
        "    \"\"\"Lightweight edge structures for a graph\"\"\"\n",
        "    __slots__ = '_origin', '_destination', '_element'\n",
        "\n",
        "\n",
        "    def __init__(self, u, v, x):\n",
        "      \"\"\"Do not call constructor directly. Use Graph's insert_edge(u, v, x)\"\"\"\n",
        "      self._origin = u\n",
        "      self._destination = v\n",
        "      self._element = x\n",
        "\n",
        "\n",
        "    def __repr__(self):\n",
        "      return f\"Origin: {self._origin}\\nDestination: {self._destination}\\\n",
        "      \\nElement {self._element}\"\n",
        "\n",
        "\n",
        "    def endpoints(self):\n",
        "      \"\"\"Return (u, v) tuple for verticies u and v\"\"\"\n",
        "      return (self._origin, self._destination)\n",
        "\n",
        "\n",
        "    def opposite(self):\n",
        "      \"\"\"Return the vertex that is opposite v on this edge\"\"\"\n",
        "      return self._destination if v is self._origin else self._origin\n",
        "\n",
        "\n",
        "    def element(self):\n",
        "      \"\"\"Return element asociated with this edge\"\"\"\n",
        "      return self._element\n",
        "\n",
        "\n",
        "    def __hash__(self):\n",
        "      return hash((self._element, self._destination))"
      ],
      "execution_count": 0,
      "outputs": []
    },
    {
      "cell_type": "code",
      "metadata": {
        "id": "NWkSWFrxYTwC",
        "colab_type": "code",
        "colab": {}
      },
      "source": [
        "class Location:\n",
        "\n",
        "\n",
        "  def __init__(self, name):\n",
        "    self.name = name\n",
        "  \n",
        "\n",
        "  def __repr__(self):\n",
        "    return f\"{self.name}\"\n"
      ],
      "execution_count": 0,
      "outputs": []
    },
    {
      "cell_type": "code",
      "metadata": {
        "id": "-chiEHK7Xy9a",
        "colab_type": "code",
        "colab": {}
      },
      "source": [
        "the_west = Graph(directed = True)\n",
        "\n",
        "\n",
        "independence = the_west.insert_vertex(Location(name = 'Independence'))\n",
        "fort_kearny = the_west.insert_vertex(Location(name = 'Fort Kearny'))\n",
        "ash_hollow = the_west.insert_vertex(Location(name = 'Ash Hollow'))\n",
        "chimney_rock = the_west.insert_vertex(Location(name = 'Chimney Rock'))\n",
        "ft_laramie = the_west.insert_vertex(Location(name = 'Fort Laramie'))\n",
        "\n",
        "\n",
        "the_west.insert_edge(independence, fort_kearny, None)\n",
        "the_west.insert_edge(fort_kearny, independence, None)\n",
        "\n",
        "the_west.insert_edge(fort_kearny, ash_hollow, None)\n",
        "the_west.insert_edge(ash_hollow, fort_kearny, None)\n",
        "\n",
        "the_west.insert_edge(ash_hollow, chimney_rock, None)\n",
        "the_west.insert_edge(chimney_rock, ash_hollow, None)\n",
        "\n",
        "the_west.insert_edge(chimney_rock, ft_laramie, None)\n",
        "the_west.insert_edge(ft_laramie, chimney_rock, None)"
      ],
      "execution_count": 0,
      "outputs": []
    },
    {
      "cell_type": "code",
      "metadata": {
        "id": "pjWUFJabPN-8",
        "colab_type": "code",
        "colab": {
          "base_uri": "https://localhost:8080/",
          "height": 35
        },
        "outputId": "a25ef48c-f746-4d1e-877b-a61c40fcfe2c"
      },
      "source": [
        "the_west.vertices()"
      ],
      "execution_count": 113,
      "outputs": [
        {
          "output_type": "execute_result",
          "data": {
            "text/plain": [
              "dict_keys([Independence, Fort Kearny, Ash Hollow, Chimney Rock, Fort Laramie])"
            ]
          },
          "metadata": {
            "tags": []
          },
          "execution_count": 113
        }
      ]
    },
    {
      "cell_type": "code",
      "metadata": {
        "id": "KI7NTW4qE46t",
        "colab_type": "code",
        "colab": {
          "base_uri": "https://localhost:8080/",
          "height": 827
        },
        "outputId": "c58030f8-13d5-4f5f-e9ea-8408af154a05"
      },
      "source": [
        "for i in the_west.vertices():\n",
        "  print(i)\n",
        "  for j in the_west.incident_edges(i):\n",
        "    print(j, '\\n\\n')"
      ],
      "execution_count": 114,
      "outputs": [
        {
          "output_type": "stream",
          "text": [
            "Independence\n",
            "Origin: Independence\n",
            "Destination: Fort Kearny      \n",
            "Element None \n",
            "\n",
            "\n",
            "Fort Kearny\n",
            "Origin: Fort Kearny\n",
            "Destination: Independence      \n",
            "Element None \n",
            "\n",
            "\n",
            "Origin: Fort Kearny\n",
            "Destination: Ash Hollow      \n",
            "Element None \n",
            "\n",
            "\n",
            "Ash Hollow\n",
            "Origin: Ash Hollow\n",
            "Destination: Fort Kearny      \n",
            "Element None \n",
            "\n",
            "\n",
            "Origin: Ash Hollow\n",
            "Destination: Chimney Rock      \n",
            "Element None \n",
            "\n",
            "\n",
            "Chimney Rock\n",
            "Origin: Chimney Rock\n",
            "Destination: Ash Hollow      \n",
            "Element None \n",
            "\n",
            "\n",
            "Origin: Chimney Rock\n",
            "Destination: Fort Laramie      \n",
            "Element None \n",
            "\n",
            "\n",
            "Fort Laramie\n",
            "Origin: Fort Laramie\n",
            "Destination: Chimney Rock      \n",
            "Element None \n",
            "\n",
            "\n"
          ],
          "name": "stdout"
        }
      ]
    },
    {
      "cell_type": "code",
      "metadata": {
        "id": "gmGKw8AJVRdz",
        "colab_type": "code",
        "colab": {
          "base_uri": "https://localhost:8080/",
          "height": 53
        },
        "outputId": "b8a58867-96d6-4481-e8f1-b1c75967e866"
      },
      "source": [
        "for i in the_west.incident_edges(ash_hollow):\n",
        "  print(i._destination)"
      ],
      "execution_count": 118,
      "outputs": [
        {
          "output_type": "stream",
          "text": [
            "Fort Kearny\n",
            "Chimney Rock\n"
          ],
          "name": "stdout"
        }
      ]
    },
    {
      "cell_type": "code",
      "metadata": {
        "id": "K0HDmPcuZL23",
        "colab_type": "code",
        "colab": {}
      },
      "source": [
        ""
      ],
      "execution_count": 0,
      "outputs": []
    }
  ]
}